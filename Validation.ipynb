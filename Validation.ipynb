{
 "cells": [
  {
   "cell_type": "code",
   "execution_count": 1,
   "id": "702a3eb8-3dd6-4571-8394-56897412cb9a",
   "metadata": {
    "tags": []
   },
   "outputs": [
    {
     "name": "stdout",
     "output_type": "stream",
     "text": [
      "importing Jupyter notebook from dnn_models.ipynb\n",
      "importing Jupyter notebook from DNN_model_final.ipynb\n",
      "importing Jupyter notebook from final_pole_module.ipynb\n",
      "Number of poles to be generated per class: 6250000\n",
      "Ndata to be generated= 25000000\n",
      "Your directory is: curriculum02_training\n"
     ]
    }
   ],
   "source": [
    "import chainer\n",
    "from chainer import configuration\n",
    "from chainer.dataset import convert\n",
    "import chainer.links as L\n",
    "import chainer.functions as F\n",
    "from chainer import optimizers, initializers, serializers\n",
    "\n",
    "import math\n",
    "import numpy as np\n",
    "#import cupy as cp\n",
    "import random\n",
    "import os\n",
    "import cupy as cp\n",
    "import sklearn\n",
    "from sklearn.utils import shuffle\n",
    "import pickle\n",
    "import pandas as pd\n",
    "import seaborn as sns\n",
    "\n",
    "import import_ipynb\n",
    "import dnn_models\n",
    "from dnn_models import MLP1L, MLP2L, MLP3L, MLP4L\n",
    "\n",
    "import DNN_model_final\n",
    "from DNN_model_final import CustomMLP\n",
    "\n",
    "import final_pole_module\n",
    "from final_pole_module import detect_cusp, unif_pole, T1, T2, Einput\n",
    "from final_pole_module import mu1, mu2, T1, T2, T4, Nreal, Nimag, hbarc\n",
    "from final_pole_module import Einput, Ereal, Eimag, Erealfar, Eimagfar, E_exp, labelz, inspect, NEpoints\n",
    "from final_pole_module import skip_duplicate, export_data, import_data, get_traintest, directory\n",
    "\n",
    "import matplotlib.pyplot as plt\n",
    "import time"
   ]
  },
  {
   "cell_type": "code",
   "execution_count": 2,
   "id": "41a4a62f-370c-4b57-9193-5ce1e8ccaa2f",
   "metadata": {
    "tags": []
   },
   "outputs": [],
   "source": [
    "# directory1 = '900epochs_SMORMS_200_100_THESIS_curr03_full' #full'\n",
    "# curriculum = 3\n",
    "# batchsize = 64\n",
    "\n",
    "# training_accu1 = pickle.load(open(os.path.join(directory1,\"training_accu1.pkl\"),\"rb\"))\n",
    "# testing_accu1 = pickle.load(open(os.path.join(directory1,\"testing_accu1.pkl\"),\"rb\"))\n",
    "# training_loss1 = pickle.load(open(os.path.join(directory1,\"training_loss1.pkl\"),\"rb\"))\n",
    "# testing_loss1 = pickle.load(open(os.path.join(directory1,\"testing_loss1.pkl\"),\"rb\"))\n",
    "# print('curriculum: {:02d}'.format(curriculum), '       batchsize: {:04d}'.format(batchsize))\n",
    "# print('recent epoch:', len(training_accu1))\n",
    " \n",
    "# print('baseline random model:{: .06f}'.format(1/(curriculum+2)))\n",
    "# print('MPL1 train_accu:{: .06f}'.format(float(training_accu1[len(training_accu1)-1])), '  MPL1 test_accu:{: .06f}'.format(float(testing_accu1[len(testing_accu1)-1])))\n",
    "\n",
    "# drop = float(training_accu1[len(training_accu1)-1]) - float(training_accu1[len(training_accu1)-2])\n",
    "# if drop<0:\n",
    "#     print('accuracy decrease by:{: .06f}'.format(drop))\n",
    "# elif drop>0:\n",
    "#     print('accuracy increase by:{: .06f}'.format(drop))\n",
    "# elif drop == 0:\n",
    "#     print('no change')\n",
    "# print()\n",
    "# #print('MPL1 train_loss:{: .06f}'.format(float(training_loss1[len(training_loss1)-1])), '  MPL1 test_loss:{: .06f}'.for"
   ]
  },
  {
   "cell_type": "code",
   "execution_count": 3,
   "id": "4bb31944-05f0-4a88-98d0-279e9cc79a4f",
   "metadata": {
    "tags": []
   },
   "outputs": [],
   "source": [
    "# exec('training_accu1=pickle.load(open(os.path.join(directory1,\"training_accu1.pkl\"),\"rb\"))')\n",
    "# exec('testing_accu1=pickle.load(open(os.path.join(directory1,\"testing_accu1.pkl\"),\"rb\"))')\n",
    "# exec('training_loss1=pickle.load(open(os.path.join(directory1,\"training_loss1.pkl\"),\"rb\"))')\n",
    "# exec('testing_loss1=pickle.load(open(os.path.join(directory1,\"testing_loss1.pkl\"),\"rb\"))') \n",
    "# print('last epoch:', len(training_accu1))"
   ]
  },
  {
   "cell_type": "code",
   "execution_count": 4,
   "id": "9ebab21d-4e25-406a-84fc-cb6ade775891",
   "metadata": {
    "tags": []
   },
   "outputs": [],
   "source": [
    "# #Convert to CuPy arrays and then to NumPy arrays\n",
    "# training_accu1 = cp.array(training_accu1).get()\n",
    "# testing_accu1 = cp.array(testing_accu1).get()"
   ]
  },
  {
   "cell_type": "code",
   "execution_count": 5,
   "id": "94124cc8-6eec-46f2-a377-48c185e60f40",
   "metadata": {
    "tags": []
   },
   "outputs": [],
   "source": [
    "# fig = plt.figure(figsize=(26, 10), dpi=300)\n",
    "# test = plt.plot(testing_accu1,'orange')\n",
    "# train = plt.plot(training_accu1,'blue')\n",
    "# #plt.title('Adam: [400-400-400], 72.50%, 73.92%',fontsize=30)\n",
    "# plt.yticks(fontsize=30)\n",
    "# plt.xticks(fontsize=30)\n",
    "\n",
    "# # Set x-axis ticks at intervals of 100\n",
    "# tick_positions = range(0, len(testing_accu1), 50)\n",
    "# plt.xticks(tick_positions, fontsize=30)\n",
    "\n",
    "# # Set x-axis tick labels at intervals of 200\n",
    "# tick_labels = [str(i) if i % 200 == 0 else '' for i in tick_positions]\n",
    "# plt.xticks(tick_positions, tick_labels, fontsize=30, rotation = 45)\n",
    "\n",
    "# # Set x-axis limits to ensure 0 is not offset\n",
    "# plt.xlim(0, len(testing_accu1))\n",
    "# plt.xlabel('Training epoch', fontsize=30)\n",
    "# plt.ylabel('Accuracy', fontsize=30)\n",
    "\n",
    "\n",
    "# plt.grid(True)\n",
    "\n",
    "# #fig.savefig('900epochs_100_200_300_SMORMS3_Thesis.png',bbox_inches='tight')"
   ]
  },
  {
   "cell_type": "code",
   "execution_count": 6,
   "id": "330808f2-1789-4345-b806-fbccea30d18f",
   "metadata": {
    "tags": []
   },
   "outputs": [],
   "source": [
    "gpu_id = 0\n",
    "device = chainer.get_device(gpu_id)"
   ]
  },
  {
   "cell_type": "code",
   "execution_count": 7,
   "id": "b5937919-49d1-4458-9904-8ec5c7fb3c31",
   "metadata": {},
   "outputs": [],
   "source": [
    "dnntest1 = MLP3L() #200-100 SMORMS3\n",
    "dnntest1 = L.Classifier(dnntest1)\n",
    "\n",
    "dnntest1.to_device(device)\n",
    "device.use()\n",
    "\n",
    "directory = '900epochs_SMORMS_300_300_300_THESIS_curr03_full'  #'REORG_RAW_ASCDESCAdam3_2_curr32_snapshot\\epoch000300'\n",
    "serializers.load_npz(os.path.join(directory,'MLP3.model'), dnntest1)\n",
    "dnntest1 = dnntest1.predictor "
   ]
  },
  {
   "cell_type": "code",
   "execution_count": 8,
   "id": "dc084413-51ff-4941-9b4c-0fd0e93742ec",
   "metadata": {
    "tags": []
   },
   "outputs": [],
   "source": [
    "# dataset_dir = 'curriculum03_validation_swap'\n",
    "#   #35 #32:35, 31: 34, 32:33\n",
    "# labels = []\n",
    "\n",
    "# oldcurr = [0, 1, 2,\n",
    "#            3, 4,\n",
    "#               5, 6, 7]\n",
    "\n",
    "# num_labels = len(oldcurr)\n",
    "\n",
    "# selected_indices = oldcurr[:num_labels]\n",
    "\n",
    "# for index in selected_indices:\n",
    "#     label_filename = f'ModEsq{index:02d}.pkl'\n",
    "#     label_path = os.path.join(dataset_dir, label_filename)\n",
    "    \n",
    "#     # Load and convert label to cp.asarray\n",
    "#     label_data = cp.asarray(pickle.load(open(label_path, \"rb\")), dtype=np.float32)\n",
    "    \n",
    "#     # Assign the label to a variable with a dynamic name (e.g., Label00, Label01, ...)\n",
    "#     globals()[f'Label{index:02d}'] = label_data\n",
    "    \n",
    "#     # Append the label to the list\n",
    "#     labels.append(label_data)"
   ]
  },
  {
   "cell_type": "code",
   "execution_count": 9,
   "id": "255f5d39-b0df-4531-a91a-e87bedf78fb9",
   "metadata": {
    "tags": []
   },
   "outputs": [],
   "source": [
    "# label_arrays = []\n",
    "\n",
    "# selected_indices = oldcurr[:num_labels]\n",
    "\n",
    "# for index in selected_indices:\n",
    "#     label_filename = f'labelin{index:02d}.pkl'\n",
    "#     label_path = os.path.join(dataset_dir, label_filename)\n",
    "    \n",
    "#     # Load and convert label to cp.asarray\n",
    "#     label_data = cp.asarray(pickle.load(open(label_path, \"rb\")), dtype=np.float32)\n",
    "    \n",
    "#     # Assign the label to a variable with a dynamic name (e.g., Label00, Label01, ...)\n",
    "#     globals()[f'Label{index:02d}'] = label_data\n",
    "    \n",
    "#     label_array = []\n",
    "#     for n in range(len(label_data)):\n",
    "#         label = dnntest1(label_data)[n].array.argmax()\n",
    "#         label_array.append(label.tolist())\n",
    "    \n",
    "#     label_arrays.append(label_array)"
   ]
  },
  {
   "cell_type": "code",
   "execution_count": 10,
   "id": "03cad605-239e-4b45-8051-3895f0aee989",
   "metadata": {
    "tags": []
   },
   "outputs": [],
   "source": [
    "# table_data = np.zeros((num_labels, num_labels), dtype=int)\n",
    "\n",
    "# for i in range(num_labels):\n",
    "#     for j in range(num_labels):\n",
    "#         table_data[i, j] = sum(1 for x in label_arrays[j] if x == selected_indices[i])"
   ]
  },
  {
   "cell_type": "code",
   "execution_count": 11,
   "id": "a64a91d1-023d-445a-8d7b-ff54bee7ca45",
   "metadata": {
    "tags": []
   },
   "outputs": [],
   "source": [
    "# # table_data = np.zeros((num_labels, num_labels), dtype=int)\n",
    "\n",
    "# # for i in range(num_labels):\n",
    "# #     for j in range(num_labels):\n",
    "# #         table_data[i, j] = sum(1 for x in label_arrays[j] if x == selected_indices[i])\n",
    "\n",
    "# table_data = np.transpose(table_data)\n",
    "\n",
    "# table_row = [str(i) for i in selected_indices]\n",
    "# table_col = [str(i) for i in selected_indices]\n",
    "\n",
    "# # table_data = np.zeros((num_labels, num_labels), dtype=int)\n",
    "\n",
    "# # for i in range(num_labels):\n",
    "# #     for j in range(num_labels):\n",
    "# #         table_data[i, j] = label_arrays[j].count(i)\n",
    "\n",
    "# # table_data = np.transpose(table_data)\n",
    "        \n",
    "# # table_row = [f'Label{i:02d}' for i in selected_indices]\n",
    "# # table_col = [str(i) for i in selected_indices]  \n",
    "\n",
    "\n",
    "# # Increase figure size\n",
    "# fig, ax = plt.subplots(figsize=(15, 15))\n",
    "\n",
    "# # Use Seaborn for a better style\n",
    "# sns.set()\n",
    "\n",
    "# # Adjust aspect ratio\n",
    "# ax.set_aspect('equal', adjustable='box')\n",
    "\n",
    "# # Plot the heatmap\n",
    "# im = ax.imshow(table_data, cmap='viridis')\n",
    "\n",
    "# # Set labels and ticks\n",
    "# ax.set_xticks(np.arange(len(table_col)))\n",
    "# ax.set_xticklabels(table_col, rotation=0, fontsize=60)\n",
    "# ax.set_yticks(np.arange(len(table_row)))\n",
    "# ax.set_yticklabels(table_row, fontsize=60)\n",
    "\n",
    "# # Set title\n",
    "# #ax.set_title('Confusion Matrix', fontweight=\"bold\", fontsize=20, pad=20)\n",
    "\n",
    "# # Set axis labels\n",
    "# #ax.set_ylabel('True label', fontsize=20)\n",
    "# #ax.set_xlabel('Predicted label', fontsize=20)\n",
    "\n",
    "# # Highlight the edges of the diagonal cells\n",
    "# # for i in range(len(table_row)):\n",
    "# #     for j in range(len(table_col)):\n",
    "# #         text = ax.text(j, i, table_data[i, j],\n",
    "# #                        ha=\"center\", va=\"center\", color=\"w\", fontsize=20)\n",
    "# #         # Draw borders around the diagonal cells\n",
    "# #         if i == j:\n",
    "# #             text.set_bbox(dict(facecolor='none', edgecolor='orange', boxstyle='round,pad=0.3'))\n",
    "\n",
    "# # Display colorbar\n",
    "# cbar = ax.figure.colorbar(im, ax=ax, shrink=0.8, pad=0.02)\n",
    "# cbar.ax.tick_params(labelsize=60)\n",
    "\n",
    "# plt.show()\n",
    "# fig.savefig('HeatMAP900epeochs_validation_100_200_300_SMORMS3_conf_THESIS.png', bbox_inches='tight')"
   ]
  },
  {
   "cell_type": "code",
   "execution_count": 12,
   "id": "a539b10b-be3e-4efd-8686-6bba57498b79",
   "metadata": {},
   "outputs": [],
   "source": [
    "# # Sum of each row\n",
    "# row_sums = np.sum(table_data, axis=1)\n",
    "# print(\"Row sums:\", row_sums)\n",
    "\n",
    "# # Sum of each column\n",
    "# column_sums = np.sum(table_data, axis=0)\n",
    "# print(\"Column sums:\", column_sums)"
   ]
  },
  {
   "cell_type": "code",
   "execution_count": 13,
   "id": "aa5bedcf-ff36-448b-996c-5839d5c064fd",
   "metadata": {
    "tags": []
   },
   "outputs": [
    {
     "data": {
      "image/png": "[encoded data removed]",
      "text/plain": [
       "<Figure size 640x480 with 1 Axes>"
      ]
     },
     "metadata": {},
     "output_type": "display_data"
    }
   ],
   "source": [
    "# Load the DataFrame from CSV\n",
    "file_path = 'hepdataLHCB.csv'\n",
    "df = pd.read_csv(file_path)\n",
    "df = df.loc[(df.MEV >= 4212) & (df.MEV <= 4412)].copy()\n",
    "\n",
    "# Assuming 'x_column', 'y_column', 'upper_bound_column', 'lower_bound_column' are the column names\n",
    "x_values = df['MEV']\n",
    "y_values = df['DN_DM']\n",
    "upper_bound_values = df['STATPLUS']\n",
    "lower_bound_values = df['STATMINUS']\n",
    "\n",
    "# Calculate the error as the difference between upper and lower bounds\n",
    "error_values = [upper - lower for upper, lower in zip(upper_bound_values, lower_bound_values)]\n",
    "\n",
    "# Plotting with error bars\n",
    "plt.errorbar(x_values, y_values, yerr=error_values, fmt='o', label='Data with Error Bars')\n",
    "\n",
    "# Customize the plot\n",
    "plt.title('Your Title')\n",
    "plt.xlabel('X-axis Label')\n",
    "plt.ylabel('Y-axis Label')\n",
    "plt.legend()\n",
    "\n",
    "# Display the plot\n",
    "plt.show()"
   ]
  },
  {
   "cell_type": "code",
   "execution_count": 14,
   "id": "c08bb039-2616-4be3-bd94-08d09542d8a4",
   "metadata": {
    "tags": []
   },
   "outputs": [],
   "source": [
    "# len(df)"
   ]
  },
  {
   "cell_type": "code",
   "execution_count": 15,
   "id": "a40c0b23-c398-4d7c-9458-00fa8fde0200",
   "metadata": {
    "tags": []
   },
   "outputs": [],
   "source": [
    "# print(df)"
   ]
  },
  {
   "cell_type": "code",
   "execution_count": 16,
   "id": "7563745d-4b3a-45d7-acf5-5f3b300dd6b2",
   "metadata": {
    "tags": []
   },
   "outputs": [],
   "source": [
    "def gen_Eaxis(df):\n",
    "    x_data = []\n",
    "\n",
    "    for index, row in df.iterrows():\n",
    "        x_val = random.gauss(mu=row['MEV'],sigma=5.0) #random.uniform(row['MEV_LOW'], row['MEV_HIGH'])\n",
    "        x_data.append(x_val)\n",
    "\n",
    "    return np.array(x_data)\n",
    "\n",
    "def gen_Amp(df):\n",
    "    y_data = []\n",
    "\n",
    "    for index, row in df.iterrows():\n",
    "        y_val = random.gauss(mu=row['DN_DM'], sigma=5.0)\n",
    "        y_data.append(y_val)\n",
    "\n",
    "    return np.array(y_data)\n",
    "\n",
    "\n",
    "# def gen_Amp(df):\n",
    "#     y_data = []\n",
    "\n",
    "#     for i in range(len(df)):\n",
    "#         y_val = random.uniform(df['DN_DM'].iloc[i] + df['STATMINUS'].iloc[i], df['DN_DM'].iloc[i] + df['STATPLUS'].iloc[i])\n",
    "#         y_data.append(y_val)\n",
    "\n",
    "#     return np.array(y_data)\n",
    "\n",
    "def gen_Exp(df):\n",
    "    x_data = gen_Eaxis(df)\n",
    "    y_data = gen_Amp(df)\n",
    "\n",
    "    return np.concatenate((x_data, y_data), axis=0)"
   ]
  },
  {
   "cell_type": "code",
   "execution_count": 17,
   "id": "d8df590c-223d-4f46-948c-b459ff50ed48",
   "metadata": {
    "tags": []
   },
   "outputs": [],
   "source": [
    "Exp_data = []\n",
    "for i in range(3000):\n",
    "    Exp = gen_Exp(df)\n",
    "    Exp_data.append(Exp)"
   ]
  },
  {
   "cell_type": "code",
   "execution_count": 18,
   "id": "045bbaab-1cc2-4bae-8bc5-a633dad4288d",
   "metadata": {
    "tags": []
   },
   "outputs": [],
   "source": [
    "Exp_data = cp.asarray(Exp_data, dtype=np.float32)\n",
    "\n",
    "Exp_labels = []\n",
    "for n in range(len(Exp_data)):\n",
    "    label = dnntest1(Exp_data)[n].array.argmax()\n",
    "    Exp_labels.append(label.tolist())"
   ]
  },
  {
   "cell_type": "code",
   "execution_count": 19,
   "id": "8e1ec0bc-522b-4697-85e8-c286327f65c3",
   "metadata": {
    "tags": []
   },
   "outputs": [
    {
     "data": {
      "image/png": "[encoded data removed]",
      "text/plain": [
       "<Figure size 300x200 with 1 Axes>"
      ]
     },
     "metadata": {},
     "output_type": "display_data"
    }
   ],
   "source": [
    "# Define the range for Exp_labels.count\n",
    "label_range = range(8)  # Adjust this range based on your needs\n",
    "\n",
    "# Generate table_data, table_col, and table_row dynamically\n",
    "table_data = [[Exp_labels.count(label)] for label in label_range] + [[len(Exp_labels)]]\n",
    "table_col = ['$P_c(4312)$']\n",
    "table_row = [str(label) for label in label_range] + [' Total ']\n",
    "\n",
    "# Create and display the table\n",
    "fig, ax = plt.subplots(figsize=(3, 2))\n",
    "ax.set_axis_off() \n",
    "table = ax.table(cellText=table_data, rowLabels=table_row, colLabels=table_col, rowLoc='right', loc='upper left',\n",
    "                rowColours=['lightsteelblue'] * (len(label_range) + 1) + ['silver'], colColours=['lightsteelblue'])\n",
    "\n",
    "ax.set_title('Inference', fontweight='bold') \n",
    "table.scale(1, 1.5)\n",
    "\n",
    "plt.show()\n",
    "fig.savefig('GAUSS_SIGMA_5_900epoch_Inference_300_300_300_SMORMS_conf_THESIS.png', bbox_inches='tight')"
   ]
  },
  {
   "cell_type": "code",
   "execution_count": 20,
   "id": "fbd161f3-03fa-408d-9aaa-692b1726a1c1",
   "metadata": {
    "tags": []
   },
   "outputs": [
    {
     "name": "stdout",
     "output_type": "stream",
     "text": [
      "Row numbers for elements in the specified range: Int64Index([114, 115, 116, 117, 118, 119, 120, 121, 122, 123, 124, 125, 126,\n",
      "            127, 128, 129, 130, 131, 132, 133, 134, 135, 136, 137, 138, 139,\n",
      "            140, 141, 142, 143, 144, 145, 146, 147, 148, 149, 150, 151, 152,\n",
      "            153, 154, 155, 156, 157, 158, 159, 160, 161, 162],\n",
      "           dtype='int64')\n"
     ]
    }
   ],
   "source": [
    "dataset = pd.read_csv('hepdataLHCB.csv')\n",
    "\n",
    "# Define the range\n",
    "lower_bound = 4260\n",
    "upper_bound = 4359\n",
    "\n",
    "# Find the rows that meet the condition\n",
    "filtered_rows = dataset[(dataset['MEV'] > lower_bound) & (dataset['MEV'] < upper_bound)]\n",
    "\n",
    "# Display the row numbers\n",
    "row_numbers = filtered_rows.index + 1  # Adding 1 to start counting from 1 instead of 0\n",
    "print(\"Row numbers for elements in the specified range:\", row_numbers)"
   ]
  },
  {
   "cell_type": "code",
   "execution_count": 21,
   "id": "9e88ac7f-bfe4-468f-bc6f-f61290c32e3a",
   "metadata": {
    "tags": []
   },
   "outputs": [
    {
     "data": {
      "text/plain": [
       "49"
      ]
     },
     "execution_count": 21,
     "metadata": {},
     "output_type": "execute_result"
    }
   ],
   "source": [
    "len(row_numbers)"
   ]
  },
  {
   "cell_type": "code",
   "execution_count": 22,
   "id": "b6979516-d655-46d1-9b5d-e6d25ba78ee1",
   "metadata": {
    "tags": []
   },
   "outputs": [
    {
     "name": "stdout",
     "output_type": "stream",
     "text": [
      "Row sums: [   0    0    0 3000    0    0    0    0 3000]\n",
      "Column sums: [6000]\n"
     ]
    }
   ],
   "source": [
    "# Sum of each row\n",
    "row_sums = np.sum(table_data, axis=1)\n",
    "print(\"Row sums:\", row_sums)\n",
    "\n",
    "# Sum of each column\n",
    "column_sums = np.sum(table_data, axis=0)\n",
    "print(\"Column sums:\", column_sums)"
   ]
  },
  {
   "cell_type": "code",
   "execution_count": 23,
   "id": "ab417d34-c24c-4a1f-a5ce-56c01e8d1136",
   "metadata": {},
   "outputs": [],
   "source": [
    "# dataset = pd.read_csv('hepdataLHCB.csv')\n",
    "# trunc = dataset.loc[(dataset.MEV > 4260) & (dataset.MEV < 4359)].copy()\n",
    "\n",
    "\n",
    "# def gen_Eaxis(trunc):\n",
    "#     x_data = []\n",
    "\n",
    "#     for index, row in trunc.iterrows():\n",
    "#         x_val = random.uniform(row['MEV_LOW'], row['MEV_HIGH'])\n",
    "#         x_data.append(x_val)\n",
    "\n",
    "#     return np.array(x_data)\n",
    "\n",
    "# def gen_Amp(trunc):\n",
    "#     y_data = []\n",
    "\n",
    "#     for i in range(len(trunc)):\n",
    "#         y_val = random.uniform(trunc['DN_DM'].iloc[i] + trunc['STATMINUS'].iloc[i], trunc['DN_DM'].iloc[i] + trunc['STATPLUS'].iloc[i])\n",
    "#         y_data.append(y_val)\n",
    "\n",
    "#     return np.array(y_data)\n",
    "\n",
    "\n",
    "# def gen_Exp():\n",
    "#     x_data = gen_Eaxis(trunc)\n",
    "#     y_data = gen_Amp(trunc)\n",
    "\n",
    "#     return np.concatenate((x_data,y_data), axis=1)"
   ]
  },
  {
   "cell_type": "code",
   "execution_count": 24,
   "id": "aae42825-aaaa-46de-b522-a051a3124c6e",
   "metadata": {
    "tags": []
   },
   "outputs": [],
   "source": [
    "# Exp_data = []\n",
    "# for i in range(3000):\n",
    "#     Exp = gen_Exp()\n",
    "#     Exp_data.append(Exp)"
   ]
  },
  {
   "cell_type": "code",
   "execution_count": 25,
   "id": "d078f6f2-c9f8-412e-8366-6c3d4a864f5e",
   "metadata": {
    "tags": []
   },
   "outputs": [],
   "source": [
    "# for n in range(len(Exp_data)):\n",
    "#     label = dnntest1(Exp_data)[n].array.argmax()\n",
    "#     Exp_labels.append(label.tolist())"
   ]
  },
  {
   "cell_type": "code",
   "execution_count": 26,
   "id": "734c9dd6-9e0d-42cb-8063-e089c13ac4c7",
   "metadata": {},
   "outputs": [],
   "source": [
    "# # Load the DataFrame\n",
    "# dataset = pd.read_csv('hepdataLHCB.csv')\n",
    "# trunc = dataset.loc[(dataset.MEV > 4260) & (dataset.MEV < 4359)].copy()\n",
    "\n",
    "# def gen_Eaxis(trunc):\n",
    "#     x_data = []\n",
    "\n",
    "#     for index, row in trunc.iterrows():\n",
    "#         x_val = random.uniform(row['MEV_LOW'], row['MEV_HIGH'])\n",
    "#         x_data.append(x_val)\n",
    "\n",
    "#     return np.array(x_data).reshape(-1, 1)  # Reshape to make it a 2D array\n",
    "\n",
    "# def gen_Amp(trunc):\n",
    "#     y_data = []\n",
    "\n",
    "#     for i in range(len(trunc)):\n",
    "#         y_val = random.uniform(trunc['DN_DM'].iloc[i] + trunc['STATMINUS'].iloc[i], trunc['DN_DM'].iloc[i] + trunc['STATPLUS'].iloc[i])\n",
    "#         y_data.append(y_val)\n",
    "\n",
    "#     return np.array(y_data).reshape(-1, 1)  # Reshape to make it a 2D array\n",
    "\n",
    "# def gen_Exp():\n",
    "#     x_data = gen_Eaxis(trunc)\n",
    "#     y_data = gen_Amp(trunc)\n",
    "\n",
    "#     return np.concatenate((x_data, y_data), axis=1)\n",
    "\n",
    "# Exp_data = []\n",
    "# Exp_labels = []\n",
    "\n",
    "# # Assuming dnntest1 takes a NumPy array as input\n",
    "# for i in range(3000):\n",
    "#     Exp = gen_Exp()\n",
    "#     Exp_data.append(Exp)\n",
    "\n",
    "# # Assuming dnntest1 returns a result for the entire dataset in one call\n",
    "# predictions = dnntest1(np.array(Exp_data))\n",
    "\n",
    "# for n in range(len(Exp_data)):\n",
    "#     label = predictions[n].argmax()\n",
    "#     Exp_labels.append(label.tolist())"
   ]
  },
  {
   "cell_type": "code",
   "execution_count": null,
   "id": "82fe0b71-7b65-4846-89ac-b8570aa2be17",
   "metadata": {},
   "outputs": [],
   "source": []
  }
 ],
 "metadata": {
  "kernelspec": {
   "display_name": "Python 3 (ipykernel)",
   "language": "python",
   "name": "python3"
  },
  "language_info": {
   "codemirror_mode": {
    "name": "ipython",
    "version": 3
   },
   "file_extension": ".py",
   "mimetype": "text/x-python",
   "name": "python",
   "nbconvert_exporter": "python",
   "pygments_lexer": "ipython3",
   "version": "3.11.4"
  }
 },
 "nbformat": 4,
 "nbformat_minor": 5
}
